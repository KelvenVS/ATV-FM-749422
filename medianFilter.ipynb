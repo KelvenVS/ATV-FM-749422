{
 "cells": [
  {
   "cell_type": "markdown",
   "metadata": {},
   "source": [
    "## Imports"
   ]
  },
  {
   "cell_type": "code",
   "execution_count": 12,
   "metadata": {},
   "outputs": [],
   "source": [
    "from PIL import Image\n",
    "import matplotlib.pyplot as plt\n",
    "import numpy as np"
   ]
  },
  {
   "cell_type": "markdown",
   "metadata": {},
   "source": [
    "## Funções\n"
   ]
  },
  {
   "cell_type": "code",
   "execution_count": 2,
   "metadata": {},
   "outputs": [],
   "source": [
    "def renderPGM(img, axis):\n",
    "    \"\"\"\n",
    "    Renderiza uma imagem no formato PGM utilizando a biblioteca Pillow e exibe a imagem com Matplotlib.\n",
    "\n",
    "    Parâmetros:\n",
    "    -----------\n",
    "    img : str\n",
    "        O caminho para o arquivo da imagem no formato PGM.\n",
    "    \n",
    "    axis : str\n",
    "        Define a exibição dos eixos da imagem. Pode ser 'on' para mostrar os eixos ou 'off' para ocultá-los.\n",
    "    \n",
    "    Funcionalidade:\n",
    "    ---------------\n",
    "    A função carrega a imagem fornecida no formato PGM, renderiza-a em tons de cinza e exibe-a\n",
    "    utilizando a função `imshow` da biblioteca Matplotlib. O parâmetro `axis` controla a visibilidade\n",
    "    dos eixos na renderização da imagem.\n",
    "    \"\"\"\n",
    "    \n",
    "    # Carrega a imagem PGM\n",
    "    imagem = Image.open(img)\n",
    "\n",
    "    # Exibe a imagem\n",
    "    plt.imshow(imagem, cmap='gray')\n",
    "    plt.axis(axis)  # Oculta ou exibe os eixos conforme o parâmetro\n",
    "    plt.show()\n"
   ]
  },
  {
   "cell_type": "markdown",
   "metadata": {},
   "source": [
    "## Programa"
   ]
  },
  {
   "cell_type": "code",
   "execution_count": 10,
   "metadata": {},
   "outputs": [],
   "source": [
    "def apply_median_filter_1d(image_path, filter_size=9):\n",
    "    \n",
    "    # Carregar a imagem a partir do caminho\n",
    "    # Converte a imagem para escala de cinza 0 a 255\n",
    "    image = Image.open(image_path).convert('L')\n",
    "    \n",
    "    # Converte a imagem em uma matriz NumPy\n",
    "    image_np = np.array(image)\n",
    "    \n",
    "    # Tupla resultado da matriz Numpy\n",
    "    altura, largura = image_np.shape\n",
    "\n",
    "    #Cria uma cópia da imagem\n",
    "    output_image = image_np.copy()\n",
    "\n",
    "    # Percorre todos os pixels\n",
    "    for i in range(altura):\n",
    "        for j in range(largura):\n",
    "            # Define os limites da vizinhança pelo pixel central\n",
    "            # Define o tamanho da vizinhança pelo filter_size , padrão 9\n",
    "            vizinhos = []\n",
    "            for di in range(-filter_size//2, filter_size//2 + 1):\n",
    "                for dj in range(-filter_size//2, filter_size//2 + 1):\n",
    "                    ni, nj = i + di, j + dj\n",
    "                    \n",
    "                    # Verifica se o deslocamento da imagem está dentro da mesma\n",
    "                    # Adiciona os pixeis encontrados em um array vizinhos\n",
    "                    if 0 <= ni < altura and 0 <= nj < largura:\n",
    "                        vizinhos.append(image_np[ni, nj])\n",
    "            \n",
    "            # Ordena e pega a mediana\n",
    "            output_image[i, j] = np.median(vizinhos)\n",
    "    \n",
    "    return output_image"
   ]
  },
  {
   "cell_type": "code",
   "execution_count": 13,
   "metadata": {},
   "outputs": [],
   "source": [
    "imagem = apply_median_filter_1d('pgm/cameraman.pgm')"
   ]
  }
 ],
 "metadata": {
  "kernelspec": {
   "display_name": "Python 3",
   "language": "python",
   "name": "python3"
  },
  "language_info": {
   "codemirror_mode": {
    "name": "ipython",
    "version": 3
   },
   "file_extension": ".py",
   "mimetype": "text/x-python",
   "name": "python",
   "nbconvert_exporter": "python",
   "pygments_lexer": "ipython3",
   "version": "3.11.9"
  }
 },
 "nbformat": 4,
 "nbformat_minor": 2
}
