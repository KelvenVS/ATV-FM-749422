{
 "cells": [
  {
   "cell_type": "markdown",
   "metadata": {},
   "source": [
    "## Imports"
   ]
  },
  {
   "cell_type": "code",
   "execution_count": 1,
   "metadata": {},
   "outputs": [],
   "source": [
    "from PIL import Image\n",
    "import matplotlib.pyplot as plt"
   ]
  },
  {
   "cell_type": "markdown",
   "metadata": {},
   "source": [
    "## Funções\n"
   ]
  },
  {
   "cell_type": "code",
   "execution_count": 2,
   "metadata": {},
   "outputs": [],
   "source": [
    "def renderPGM(img, axis):\n",
    "    \"\"\"\n",
    "    Renderiza uma imagem no formato PGM utilizando a biblioteca Pillow e exibe a imagem com Matplotlib.\n",
    "\n",
    "    Parâmetros:\n",
    "    -----------\n",
    "    img : str\n",
    "        O caminho para o arquivo da imagem no formato PGM.\n",
    "    \n",
    "    axis : str\n",
    "        Define a exibição dos eixos da imagem. Pode ser 'on' para mostrar os eixos ou 'off' para ocultá-los.\n",
    "    \n",
    "    Funcionalidade:\n",
    "    ---------------\n",
    "    A função carrega a imagem fornecida no formato PGM, renderiza-a em tons de cinza e exibe-a\n",
    "    utilizando a função `imshow` da biblioteca Matplotlib. O parâmetro `axis` controla a visibilidade\n",
    "    dos eixos na renderização da imagem.\n",
    "    \"\"\"\n",
    "    \n",
    "    # Carrega a imagem PGM\n",
    "    imagem = Image.open(img)\n",
    "\n",
    "    # Exibe a imagem\n",
    "    plt.imshow(imagem, cmap='gray')\n",
    "    plt.axis(axis)  # Oculta ou exibe os eixos conforme o parâmetro\n",
    "    plt.show()\n"
   ]
  },
  {
   "cell_type": "markdown",
   "metadata": {},
   "source": [
    "## Programa"
   ]
  },
  {
   "cell_type": "code",
   "execution_count": null,
   "metadata": {},
   "outputs": [],
   "source": []
  }
 ],
 "metadata": {
  "kernelspec": {
   "display_name": "Python 3",
   "language": "python",
   "name": "python3"
  },
  "language_info": {
   "codemirror_mode": {
    "name": "ipython",
    "version": 3
   },
   "file_extension": ".py",
   "mimetype": "text/x-python",
   "name": "python",
   "nbconvert_exporter": "python",
   "pygments_lexer": "ipython3",
   "version": "3.11.9"
  }
 },
 "nbformat": 4,
 "nbformat_minor": 2
}
